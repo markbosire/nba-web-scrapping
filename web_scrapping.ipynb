{
  "cells": [
    {
      "cell_type": "markdown",
      "metadata": {
        "id": "view-in-github",
        "colab_type": "text"
      },
      "source": [
        "<a href=\"https://colab.research.google.com/github/markbosire/nba-web-scrapping/blob/main/web_scrapping.ipynb\" target=\"_parent\"><img src=\"https://colab.research.google.com/assets/colab-badge.svg\" alt=\"Open In Colab\"/></a>"
      ]
    },
    {
      "cell_type": "code",
      "execution_count": null,
      "id": "0f45aafa-b8b3-46a1-a519-be64f88d6945",
      "metadata": {
        "id": "0f45aafa-b8b3-46a1-a519-be64f88d6945"
      },
      "outputs": [],
      "source": [
        "import requests#to scrape data from the web\n",
        "import os\n",
        "import shutil"
      ]
    },
    {
      "cell_type": "code",
      "execution_count": null,
      "id": "763b1d39-1fdd-4f25-b256-752227a24e3b",
      "metadata": {
        "id": "763b1d39-1fdd-4f25-b256-752227a24e3b"
      },
      "outputs": [],
      "source": [
        "years = list(range(1994,2024))"
      ]
    },
    {
      "cell_type": "code",
      "execution_count": null,
      "id": "9025b60a-3c00-45f0-92ac-a8013dfb91e3",
      "metadata": {
        "id": "9025b60a-3c00-45f0-92ac-a8013dfb91e3",
        "colab": {
          "base_uri": "https://localhost:8080/"
        },
        "outputId": "b6c85d08-9153-4765-8675-d1f95d9a3fbe"
      },
      "outputs": [
        {
          "output_type": "stream",
          "name": "stdout",
          "text": [
            "Mounted at /content/drive\n"
          ]
        }
      ],
      "source": [
        "\n",
        "# Mount Google Drive\n",
        "from google.colab import drive\n",
        "drive.mount('/content/drive')\n",
        "\n",
        "# Set the path of the new folder you want to create in Drive\n",
        "folder_path = \"/content/drive/MyDrive/mvp\"\n",
        "\n",
        "# Create the new folder\n",
        "import os\n",
        "os.makedirs(folder_path, exist_ok=True)\n",
        "url_start = \"https://www.basketball-reference.com/awards/awards_{}.html\"\n",
        "\n",
        "for year in years:\n",
        "    url = url_start.format(year)\n",
        "\n",
        "    data = requests.get(url)\n",
        "\n",
        "    with open(\"{}/{}.html\".format(folder_path, year), \"w+\") as f:\n",
        "        f.write(data.text)"
      ]
    },
    {
      "cell_type": "code",
      "execution_count": null,
      "id": "b37060fa-d905-4bef-932e-8c5c3f9b9cbe",
      "metadata": {
        "id": "b37060fa-d905-4bef-932e-8c5c3f9b9cbe"
      },
      "outputs": [],
      "source": [
        "from bs4 import BeautifulSoup#to parse html"
      ]
    },
    {
      "cell_type": "code",
      "execution_count": null,
      "id": "70e67477-851d-45ce-965e-ae40b571ed13",
      "metadata": {
        "id": "70e67477-851d-45ce-965e-ae40b571ed13"
      },
      "outputs": [],
      "source": [
        "import pandas as pd#to load the html into dataframes"
      ]
    },
    {
      "cell_type": "code",
      "execution_count": null,
      "id": "a5c481bd-20ff-425b-88d0-e48253ab1dc4",
      "metadata": {
        "id": "a5c481bd-20ff-425b-88d0-e48253ab1dc4",
        "colab": {
          "base_uri": "https://localhost:8080/"
        },
        "outputId": "422fea64-8a4a-4363-bf09-c41462a257db"
      },
      "outputs": [
        {
          "output_type": "stream",
          "name": "stdout",
          "text": [
            "Drive already mounted at /content/drive; to attempt to forcibly remount, call drive.mount(\"/content/drive\", force_remount=True).\n"
          ]
        }
      ],
      "source": [
        "dfs = []\n",
        "from google.colab import drive\n",
        "drive.mount('/content/drive')\n",
        "\n",
        "# Set the path of the new folder you want to create in Drive\n",
        "folder_path = \"/content/drive/MyDrive/mvp\"\n",
        "for year in years:\n",
        "    with open(\"{}/{}.html\".format(folder_path, year)) as f:\n",
        "        page = f.read()\n",
        "\n",
        "    soup = BeautifulSoup(page, 'html.parser')\n",
        "    soup.find('tr', class_=\"over_header\").decompose()\n",
        "    mvp_table = soup.find_all(id=\"mvp\")[0]\n",
        "    mvp_df = pd.read_html(str(mvp_table))[0]\n",
        "    mvp_df[\"Year\"] = year #disambiguate each concatinated dataframe\n",
        "    dfs.append(mvp_df)"
      ]
    },
    {
      "cell_type": "code",
      "execution_count": null,
      "id": "885c56d1-1477-401b-85b2-d2faea488c67",
      "metadata": {
        "id": "885c56d1-1477-401b-85b2-d2faea488c67",
        "colab": {
          "base_uri": "https://localhost:8080/",
          "height": 17
        },
        "outputId": "e5366b76-d64a-4096-ae84-79bcacff7946"
      },
      "outputs": [
        {
          "output_type": "display_data",
          "data": {
            "text/plain": [
              "<IPython.core.display.Javascript object>"
            ],
            "application/javascript": [
              "\n",
              "    async function download(id, filename, size) {\n",
              "      if (!google.colab.kernel.accessAllowed) {\n",
              "        return;\n",
              "      }\n",
              "      const div = document.createElement('div');\n",
              "      const label = document.createElement('label');\n",
              "      label.textContent = `Downloading \"${filename}\": `;\n",
              "      div.appendChild(label);\n",
              "      const progress = document.createElement('progress');\n",
              "      progress.max = size;\n",
              "      div.appendChild(progress);\n",
              "      document.body.appendChild(div);\n",
              "\n",
              "      const buffers = [];\n",
              "      let downloaded = 0;\n",
              "\n",
              "      const channel = await google.colab.kernel.comms.open(id);\n",
              "      // Send a message to notify the kernel that we're ready.\n",
              "      channel.send({})\n",
              "\n",
              "      for await (const message of channel.messages) {\n",
              "        // Send a message to notify the kernel that we're ready.\n",
              "        channel.send({})\n",
              "        if (message.buffers) {\n",
              "          for (const buffer of message.buffers) {\n",
              "            buffers.push(buffer);\n",
              "            downloaded += buffer.byteLength;\n",
              "            progress.value = downloaded;\n",
              "          }\n",
              "        }\n",
              "      }\n",
              "      const blob = new Blob(buffers, {type: 'application/binary'});\n",
              "      const a = document.createElement('a');\n",
              "      a.href = window.URL.createObjectURL(blob);\n",
              "      a.download = filename;\n",
              "      div.appendChild(a);\n",
              "      a.click();\n",
              "      div.remove();\n",
              "    }\n",
              "  "
            ]
          },
          "metadata": {}
        },
        {
          "output_type": "display_data",
          "data": {
            "text/plain": [
              "<IPython.core.display.Javascript object>"
            ],
            "application/javascript": [
              "download(\"download_5e3852ec-4ada-45ff-89fd-3b5a0b50d8bb\", \"mvps.csv\", 48422)"
            ]
          },
          "metadata": {}
        }
      ],
      "source": [
        "mvps = pd.concat(dfs)\n",
        "mvps.to_csv(\"mvps.csv\")\n",
        "from google.colab import files\n",
        "files.download('mvps.csv')"
      ]
    },
    {
      "cell_type": "code",
      "source": [
        "# Set up for running selenium in Google Colab\n",
        "## You don't need to run this code if you do it in Jupyter notebook, or other local Python setting\n",
        "%%shell\n",
        "sudo apt -y update\n",
        "sudo apt install -y wget curl unzip\n",
        "wget http://archive.ubuntu.com/ubuntu/pool/main/libu/libu2f-host/libu2f-udev_1.1.4-1_all.deb\n",
        "dpkg -i libu2f-udev_1.1.4-1_all.deb\n",
        "wget https://dl.google.com/linux/direct/google-chrome-stable_current_amd64.deb\n",
        "dpkg -i google-chrome-stable_current_amd64.deb\n",
        "CHROME_DRIVER_VERSION=`curl -sS chromedriver.storage.googleapis.com/LATEST_RELEASE`\n",
        "wget -N https://chromedriver.storage.googleapis.com/$CHROME_DRIVER_VERSION/chromedriver_linux64.zip -P /tmp/\n",
        "unzip -o /tmp/chromedriver_linux64.zip -d /tmp/\n",
        "chmod +x /tmp/chromedriver\n",
        "mv /tmp/chromedriver /usr/local/bin/chromedriver\n",
        "pip install selenium"
      ],
      "metadata": {
        "colab": {
          "base_uri": "https://localhost:8080/"
        },
        "id": "itmBjtF3Z9KY",
        "outputId": "fd500201-6031-492a-fe10-2a4d711ec925"
      },
      "id": "itmBjtF3Z9KY",
      "execution_count": null,
      "outputs": [
        {
          "output_type": "stream",
          "name": "stdout",
          "text": [
            "\u001b[33m\r0% [Working]\u001b[0m\r            \rGet:1 https://cloud.r-project.org/bin/linux/ubuntu focal-cran40/ InRelease [3,622 B]\n",
            "Get:2 https://developer.download.nvidia.com/compute/cuda/repos/ubuntu2004/x86_64  InRelease [1,581 B]\n",
            "Get:3 https://cloud.r-project.org/bin/linux/ubuntu focal-cran40/ Packages [81.0 kB]\n",
            "Get:4 https://developer.download.nvidia.com/compute/cuda/repos/ubuntu2004/x86_64  Packages [1,079 kB]\n",
            "Hit:5 http://archive.ubuntu.com/ubuntu focal InRelease\n",
            "Get:6 http://security.ubuntu.com/ubuntu focal-security InRelease [114 kB]\n",
            "Get:7 http://ppa.launchpad.net/c2d4u.team/c2d4u4.0+/ubuntu focal InRelease [18.1 kB]\n",
            "Get:8 http://archive.ubuntu.com/ubuntu focal-updates InRelease [114 kB]\n",
            "Hit:9 http://ppa.launchpad.net/cran/libgit2/ubuntu focal InRelease\n",
            "Get:10 http://security.ubuntu.com/ubuntu focal-security/multiverse amd64 Packages [28.5 kB]\n",
            "Hit:11 http://ppa.launchpad.net/deadsnakes/ppa/ubuntu focal InRelease\n",
            "Get:12 http://archive.ubuntu.com/ubuntu focal-backports InRelease [108 kB]\n",
            "Get:13 http://security.ubuntu.com/ubuntu focal-security/universe amd64 Packages [1,066 kB]\n",
            "Get:14 http://archive.ubuntu.com/ubuntu focal-updates/main amd64 Packages [3,343 kB]\n",
            "Get:15 http://ppa.launchpad.net/graphics-drivers/ppa/ubuntu focal InRelease [24.3 kB]\n",
            "Get:16 http://security.ubuntu.com/ubuntu focal-security/main amd64 Packages [2,858 kB]\n",
            "Hit:17 http://ppa.launchpad.net/ubuntugis/ppa/ubuntu focal InRelease\n",
            "Get:18 http://security.ubuntu.com/ubuntu focal-security/restricted amd64 Packages [2,482 kB]\n",
            "Get:19 http://archive.ubuntu.com/ubuntu focal-updates/universe amd64 Packages [1,366 kB]\n",
            "Get:20 http://ppa.launchpad.net/c2d4u.team/c2d4u4.0+/ubuntu focal/main Sources [2,604 kB]\n",
            "Get:21 http://archive.ubuntu.com/ubuntu focal-updates/multiverse amd64 Packages [31.2 kB]\n",
            "Get:22 http://archive.ubuntu.com/ubuntu focal-updates/restricted amd64 Packages [2,648 kB]\n",
            "Get:23 http://ppa.launchpad.net/c2d4u.team/c2d4u4.0+/ubuntu focal/main amd64 Packages [1,229 kB]\n",
            "Get:24 http://ppa.launchpad.net/graphics-drivers/ppa/ubuntu focal/main amd64 Packages [44.1 kB]\n",
            "Fetched 19.2 MB in 7s (2,671 kB/s)\n",
            "Reading package lists... Done\n",
            "Building dependency tree       \n",
            "Reading state information... Done\n",
            "31 packages can be upgraded. Run 'apt list --upgradable' to see them.\n",
            "Reading package lists... Done\n",
            "Building dependency tree       \n",
            "Reading state information... Done\n",
            "curl is already the newest version (7.68.0-1ubuntu2.18).\n",
            "unzip is already the newest version (6.0-25ubuntu1.1).\n",
            "wget is already the newest version (1.20.3-1ubuntu2).\n",
            "0 upgraded, 0 newly installed, 0 to remove and 31 not upgraded.\n",
            "--2023-07-04 16:55:13--  http://archive.ubuntu.com/ubuntu/pool/main/libu/libu2f-host/libu2f-udev_1.1.4-1_all.deb\n",
            "Resolving archive.ubuntu.com (archive.ubuntu.com)... 91.189.91.39, 185.125.190.36, 91.189.91.38, ...\n",
            "Connecting to archive.ubuntu.com (archive.ubuntu.com)|91.189.91.39|:80... connected.\n",
            "HTTP request sent, awaiting response... 200 OK\n",
            "Length: 3708 (3.6K) [application/x-debian-package]\n",
            "Saving to: ‘libu2f-udev_1.1.4-1_all.deb’\n",
            "\n",
            "libu2f-udev_1.1.4-1 100%[===================>]   3.62K  --.-KB/s    in 0s      \n",
            "\n",
            "2023-07-04 16:55:14 (248 MB/s) - ‘libu2f-udev_1.1.4-1_all.deb’ saved [3708/3708]\n",
            "\n",
            "Selecting previously unselected package libu2f-udev.\n",
            "(Reading database ... 123069 files and directories currently installed.)\n",
            "Preparing to unpack libu2f-udev_1.1.4-1_all.deb ...\n",
            "Unpacking libu2f-udev (1.1.4-1) ...\n",
            "Setting up libu2f-udev (1.1.4-1) ...\n",
            "--2023-07-04 16:55:14--  https://dl.google.com/linux/direct/google-chrome-stable_current_amd64.deb\n",
            "Resolving dl.google.com (dl.google.com)... 74.125.204.190, 74.125.204.136, 74.125.204.91, ...\n",
            "Connecting to dl.google.com (dl.google.com)|74.125.204.190|:443... connected.\n",
            "HTTP request sent, awaiting response... 200 OK\n",
            "Length: 94327756 (90M) [application/x-debian-package]\n",
            "Saving to: ‘google-chrome-stable_current_amd64.deb’\n",
            "\n",
            "google-chrome-stabl 100%[===================>]  89.96M   338MB/s    in 0.3s    \n",
            "\n",
            "2023-07-04 16:55:15 (338 MB/s) - ‘google-chrome-stable_current_amd64.deb’ saved [94327756/94327756]\n",
            "\n",
            "Selecting previously unselected package google-chrome-stable.\n",
            "(Reading database ... 123073 files and directories currently installed.)\n",
            "Preparing to unpack google-chrome-stable_current_amd64.deb ...\n",
            "Unpacking google-chrome-stable (114.0.5735.198-1) ...\n",
            "Setting up google-chrome-stable (114.0.5735.198-1) ...\n",
            "update-alternatives: using /usr/bin/google-chrome-stable to provide /usr/bin/x-www-browser (x-www-browser) in auto mode\n",
            "update-alternatives: using /usr/bin/google-chrome-stable to provide /usr/bin/gnome-www-browser (gnome-www-browser) in auto mode\n",
            "update-alternatives: using /usr/bin/google-chrome-stable to provide /usr/bin/google-chrome (google-chrome) in auto mode\n",
            "Processing triggers for mime-support (3.64ubuntu1) ...\n",
            "Processing triggers for man-db (2.9.1-1) ...\n",
            "--2023-07-04 16:55:31--  https://chromedriver.storage.googleapis.com/114.0.5735.90/chromedriver_linux64.zip\n",
            "Resolving chromedriver.storage.googleapis.com (chromedriver.storage.googleapis.com)... 74.125.203.128, 2404:6800:4008:c03::80\n",
            "Connecting to chromedriver.storage.googleapis.com (chromedriver.storage.googleapis.com)|74.125.203.128|:443... connected.\n",
            "HTTP request sent, awaiting response... 200 OK\n",
            "Length: 7407250 (7.1M) [application/zip]\n",
            "Saving to: ‘/tmp/chromedriver_linux64.zip’\n",
            "\n",
            "chromedriver_linux6 100%[===================>]   7.06M  6.92MB/s    in 1.0s    \n",
            "\n",
            "2023-07-04 16:55:32 (6.92 MB/s) - ‘/tmp/chromedriver_linux64.zip’ saved [7407250/7407250]\n",
            "\n",
            "Archive:  /tmp/chromedriver_linux64.zip\n",
            "  inflating: /tmp/chromedriver       \n",
            "  inflating: /tmp/LICENSE.chromedriver  \n",
            "Collecting selenium\n",
            "  Downloading selenium-4.10.0-py3-none-any.whl (6.7 MB)\n",
            "\u001b[2K     \u001b[90m━━━━━━━━━━━━━━━━━━━━━━━━━━━━━━━━━━━━━━━━\u001b[0m \u001b[32m6.7/6.7 MB\u001b[0m \u001b[31m49.7 MB/s\u001b[0m eta \u001b[36m0:00:00\u001b[0m\n",
            "\u001b[?25hRequirement already satisfied: urllib3[socks]<3,>=1.26 in /usr/local/lib/python3.10/dist-packages (from selenium) (1.26.16)\n",
            "Collecting trio~=0.17 (from selenium)\n",
            "  Downloading trio-0.22.1-py3-none-any.whl (399 kB)\n",
            "\u001b[2K     \u001b[90m━━━━━━━━━━━━━━━━━━━━━━━━━━━━━━━━━━━━━━\u001b[0m \u001b[32m399.3/399.3 kB\u001b[0m \u001b[31m38.6 MB/s\u001b[0m eta \u001b[36m0:00:00\u001b[0m\n",
            "\u001b[?25hCollecting trio-websocket~=0.9 (from selenium)\n",
            "  Downloading trio_websocket-0.10.3-py3-none-any.whl (17 kB)\n",
            "Requirement already satisfied: certifi>=2021.10.8 in /usr/local/lib/python3.10/dist-packages (from selenium) (2023.5.7)\n",
            "Requirement already satisfied: attrs>=20.1.0 in /usr/local/lib/python3.10/dist-packages (from trio~=0.17->selenium) (23.1.0)\n",
            "Requirement already satisfied: sortedcontainers in /usr/local/lib/python3.10/dist-packages (from trio~=0.17->selenium) (2.4.0)\n",
            "Requirement already satisfied: idna in /usr/local/lib/python3.10/dist-packages (from trio~=0.17->selenium) (3.4)\n",
            "Collecting outcome (from trio~=0.17->selenium)\n",
            "  Downloading outcome-1.2.0-py2.py3-none-any.whl (9.7 kB)\n",
            "Requirement already satisfied: sniffio in /usr/local/lib/python3.10/dist-packages (from trio~=0.17->selenium) (1.3.0)\n",
            "Requirement already satisfied: exceptiongroup>=1.0.0rc9 in /usr/local/lib/python3.10/dist-packages (from trio~=0.17->selenium) (1.1.1)\n",
            "Collecting wsproto>=0.14 (from trio-websocket~=0.9->selenium)\n",
            "  Downloading wsproto-1.2.0-py3-none-any.whl (24 kB)\n",
            "Requirement already satisfied: PySocks!=1.5.7,<2.0,>=1.5.6 in /usr/local/lib/python3.10/dist-packages (from urllib3[socks]<3,>=1.26->selenium) (1.7.1)\n",
            "Collecting h11<1,>=0.9.0 (from wsproto>=0.14->trio-websocket~=0.9->selenium)\n",
            "  Downloading h11-0.14.0-py3-none-any.whl (58 kB)\n",
            "\u001b[2K     \u001b[90m━━━━━━━━━━━━━━━━━━━━━━━━━━━━━━━━━━━━━━━━\u001b[0m \u001b[32m58.3/58.3 kB\u001b[0m \u001b[31m6.5 MB/s\u001b[0m eta \u001b[36m0:00:00\u001b[0m\n",
            "\u001b[?25hInstalling collected packages: outcome, h11, wsproto, trio, trio-websocket, selenium\n",
            "Successfully installed h11-0.14.0 outcome-1.2.0 selenium-4.10.0 trio-0.22.1 trio-websocket-0.10.3 wsproto-1.2.0\n"
          ]
        },
        {
          "output_type": "execute_result",
          "data": {
            "text/plain": []
          },
          "metadata": {},
          "execution_count": 1
        }
      ]
    },
    {
      "cell_type": "code",
      "source": [
        "\n",
        "!pip install chromedriver-autoinstaller\n",
        "import sys\n",
        "sys.path.insert(0,'/usr/lib/chromium-browser/chromedriver')\n",
        "import time\n",
        "import pandas as pd\n",
        "from bs4 import BeautifulSoup\n",
        "from selenium import webdriver\n",
        "import chromedriver_autoinstaller  # setup chrome options\n",
        "chrome_options = webdriver.ChromeOptions()\n",
        "chrome_options.add_argument('--headless') # ensure GUI is off\n",
        "chrome_options.add_argument('--no-sandbox')\n",
        "chrome_options.add_argument('--disable-dev-shm-usage')  # set path to chromedriver as per your configuration\n",
        "chromedriver_autoinstaller.install()  # set the target URL\n",
        "url = \"put-url-here-to-scrape\"  # set up the webdriver\n",
        "driver = webdriver.Chrome(options=chrome_options)\n"
      ],
      "metadata": {
        "colab": {
          "base_uri": "https://localhost:8080/"
        },
        "id": "1R3f3suVAvsC",
        "outputId": "b2ecde39-12ff-49d8-d809-e43c24e21dca"
      },
      "id": "1R3f3suVAvsC",
      "execution_count": null,
      "outputs": [
        {
          "output_type": "stream",
          "name": "stdout",
          "text": [
            "Collecting chromedriver-autoinstaller\n",
            "  Downloading chromedriver_autoinstaller-0.4.0-py3-none-any.whl (6.5 kB)\n",
            "Installing collected packages: chromedriver-autoinstaller\n",
            "Successfully installed chromedriver-autoinstaller-0.4.0\n"
          ]
        }
      ]
    },
    {
      "cell_type": "code",
      "execution_count": null,
      "id": "08eeca8e-0d96-49ae-9368-b47b41c9c50d",
      "metadata": {
        "id": "08eeca8e-0d96-49ae-9368-b47b41c9c50d",
        "colab": {
          "base_uri": "https://localhost:8080/"
        },
        "outputId": "33412a64-f7ec-4016-827f-3df8e4af7459"
      },
      "outputs": [
        {
          "output_type": "stream",
          "name": "stdout",
          "text": [
            "Drive already mounted at /content/drive; to attempt to forcibly remount, call drive.mount(\"/content/drive\", force_remount=True).\n"
          ]
        }
      ],
      "source": [
        "player_stats_url = \"https://www.basketball-reference.com/leagues/NBA_{}_per_game.html\"\n",
        "from google.colab import drive\n",
        "drive.mount('/content/drive')\n",
        "\n",
        "# Set the path of the new folder you want to create in Drive\n",
        "folder_path = \"/content/drive/MyDrive/player\"\n",
        "\n",
        "# Create the new folder\n",
        "os.makedirs(folder_path, exist_ok=True)\n",
        "for year in years:\n",
        "    url = player_stats_url.format(year)\n",
        "\n",
        "    driver.get(url)\n",
        "    driver.execute_script(\"window.scrollTo(1,10000)\")#scrolls the page to get the stats of every player\n",
        "    time.sleep(2)\n",
        "\n",
        "    with open(\"{}/{}.html\".format(folder_path, year), \"w+\") as f:\n",
        "        f.write(driver.page_source)#saves the data of each year to its respective file"
      ]
    },
    {
      "cell_type": "code",
      "execution_count": null,
      "id": "a85c0ea3-ab53-4f1c-a1ac-6521c3a45be0",
      "metadata": {
        "id": "a85c0ea3-ab53-4f1c-a1ac-6521c3a45be0",
        "colab": {
          "base_uri": "https://localhost:8080/"
        },
        "outputId": "f23efbaf-071a-45d9-f7d4-b972cb4e0eac"
      },
      "outputs": [
        {
          "output_type": "stream",
          "name": "stdout",
          "text": [
            "Drive already mounted at /content/drive; to attempt to forcibly remount, call drive.mount(\"/content/drive\", force_remount=True).\n"
          ]
        }
      ],
      "source": [
        "player_dfs = []\n",
        "from google.colab import drive\n",
        "drive.mount('/content/drive')\n",
        "\n",
        "# Set the path of the new folder you want to create in Drive\n",
        "folder_path = \"/content/drive/MyDrive/player\"\n",
        "for year in years:\n",
        "    with open(\"{}/{}.html\".format(folder_path, year)) as f:\n",
        "        page = f.read()\n",
        "\n",
        "    soup = BeautifulSoup(page, 'html.parser')\n",
        "    soup.find('tr', class_=\"thead\").decompose()#removes thead to avoid confusing python\n",
        "    player_table = soup.find_all(id=\"per_game_stats\")[0]\n",
        "    player_df = pd.read_html(str(player_table))[0]\n",
        "    player_df[\"Year\"] = year\n",
        "    player_dfs.append(player_df)#pandas parses data into a data frame and the loop does it for every year\n",
        "\n"
      ]
    },
    {
      "cell_type": "code",
      "execution_count": null,
      "id": "63e479cf-4dc1-493b-87e3-da5142b15951",
      "metadata": {
        "id": "63e479cf-4dc1-493b-87e3-da5142b15951"
      },
      "outputs": [],
      "source": [
        "players = pd.concat(player_dfs)"
      ]
    },
    {
      "cell_type": "code",
      "execution_count": null,
      "id": "8388b3cb-6f76-41b7-960a-65b0774df625",
      "metadata": {
        "id": "8388b3cb-6f76-41b7-960a-65b0774df625",
        "colab": {
          "base_uri": "https://localhost:8080/",
          "height": 17
        },
        "outputId": "c8783b2a-73ee-44e8-eeff-0fa22a36415b"
      },
      "outputs": [
        {
          "output_type": "display_data",
          "data": {
            "text/plain": [
              "<IPython.core.display.Javascript object>"
            ],
            "application/javascript": [
              "\n",
              "    async function download(id, filename, size) {\n",
              "      if (!google.colab.kernel.accessAllowed) {\n",
              "        return;\n",
              "      }\n",
              "      const div = document.createElement('div');\n",
              "      const label = document.createElement('label');\n",
              "      label.textContent = `Downloading \"${filename}\": `;\n",
              "      div.appendChild(label);\n",
              "      const progress = document.createElement('progress');\n",
              "      progress.max = size;\n",
              "      div.appendChild(progress);\n",
              "      document.body.appendChild(div);\n",
              "\n",
              "      const buffers = [];\n",
              "      let downloaded = 0;\n",
              "\n",
              "      const channel = await google.colab.kernel.comms.open(id);\n",
              "      // Send a message to notify the kernel that we're ready.\n",
              "      channel.send({})\n",
              "\n",
              "      for await (const message of channel.messages) {\n",
              "        // Send a message to notify the kernel that we're ready.\n",
              "        channel.send({})\n",
              "        if (message.buffers) {\n",
              "          for (const buffer of message.buffers) {\n",
              "            buffers.push(buffer);\n",
              "            downloaded += buffer.byteLength;\n",
              "            progress.value = downloaded;\n",
              "          }\n",
              "        }\n",
              "      }\n",
              "      const blob = new Blob(buffers, {type: 'application/binary'});\n",
              "      const a = document.createElement('a');\n",
              "      a.href = window.URL.createObjectURL(blob);\n",
              "      a.download = filename;\n",
              "      div.appendChild(a);\n",
              "      a.click();\n",
              "      div.remove();\n",
              "    }\n",
              "  "
            ]
          },
          "metadata": {}
        },
        {
          "output_type": "display_data",
          "data": {
            "text/plain": [
              "<IPython.core.display.Javascript object>"
            ],
            "application/javascript": [
              "download(\"download_08732e74-1690-4458-ab96-96fcd09ff080\", \"players.csv\", 2522536)"
            ]
          },
          "metadata": {}
        }
      ],
      "source": [
        "players.to_csv(\"players.csv\")\n",
        "from google.colab import files\n",
        "files.download('players.csv')"
      ]
    },
    {
      "cell_type": "code",
      "execution_count": null,
      "id": "0c711b49-c470-48ea-a908-b8928ab93d59",
      "metadata": {
        "id": "0c711b49-c470-48ea-a908-b8928ab93d59"
      },
      "outputs": [],
      "source": [
        "team_stats_url = \"https://www.basketball-reference.com/leagues/NBA_{}_standings.html\""
      ]
    },
    {
      "cell_type": "code",
      "execution_count": null,
      "id": "0f322deb-f3a2-4eac-9e3c-c25b21dc2b1f",
      "metadata": {
        "id": "0f322deb-f3a2-4eac-9e3c-c25b21dc2b1f",
        "colab": {
          "base_uri": "https://localhost:8080/"
        },
        "outputId": "ff485d59-2517-4832-b7b4-33f0371e8a1e"
      },
      "outputs": [
        {
          "output_type": "stream",
          "name": "stdout",
          "text": [
            "Drive already mounted at /content/drive; to attempt to forcibly remount, call drive.mount(\"/content/drive\", force_remount=True).\n"
          ]
        }
      ],
      "source": [
        "from google.colab import drive\n",
        "drive.mount('/content/drive')\n",
        "\n",
        "# Set the path of the new folder you want to create in Drive\n",
        "folder_path = \"/content/drive/MyDrive/team\"\n",
        "\n",
        "# Create the new folder\n",
        "os.makedirs(folder_path, exist_ok=True)\n",
        "for year in years:\n",
        "    url = team_stats_url.format(year)\n",
        "\n",
        "    data = requests.get(url)\n",
        "\n",
        "    with open(\"{}/{}.html\".format(folder_path, year), \"w+\") as f:\n",
        "        f.write(data.text)"
      ]
    },
    {
      "cell_type": "code",
      "execution_count": null,
      "id": "538df3c8-a9b6-438f-b399-743421e1e1d6",
      "metadata": {
        "id": "538df3c8-a9b6-438f-b399-743421e1e1d6",
        "colab": {
          "base_uri": "https://localhost:8080/"
        },
        "outputId": "28f3f316-8174-4a48-983e-443b8f6a5afb"
      },
      "outputs": [
        {
          "output_type": "stream",
          "name": "stdout",
          "text": [
            "Drive already mounted at /content/drive; to attempt to forcibly remount, call drive.mount(\"/content/drive\", force_remount=True).\n"
          ]
        }
      ],
      "source": [
        "team_dfs = []\n",
        "from google.colab import drive\n",
        "drive.mount('/content/drive')\n",
        "\n",
        "# Set the path of the new folder you want to create in Drive\n",
        "folder_path = \"/content/drive/MyDrive/team\"\n",
        "for year in years:\n",
        "    with open(\"{}/{}.html\".format(folder_path, year)) as f:\n",
        "        page = f.read()\n",
        "\n",
        "    soup = BeautifulSoup(page, 'html.parser')\n",
        "    soup.find('tr', class_='thead').extract()\n",
        "\n",
        "    e_table = soup.find_all(id=\"divs_standings_E\")[0]#needs two tables for both conferences\n",
        "    e_df = pd.read_html(str(e_table))[0]\n",
        "    e_df[\"Year\"] = year\n",
        "    e_df[\"Team\"] = e_df[\"Eastern Conference\"]#adds conference name to distinguish\n",
        "    del e_df[\"Eastern Conference\"]#removes the row since we replaced it with a new identifier\n",
        "    team_dfs.append(e_df)\n",
        "\n",
        "    w_table = soup.find_all(id=\"divs_standings_W\")[0]\n",
        "    w_df = pd.read_html(str(w_table))[0]\n",
        "    w_df[\"Year\"] = year\n",
        "    w_df[\"Team\"] = w_df[\"Western Conference\"]\n",
        "    del w_df[\"Western Conference\"]\n",
        "    team_dfs.append(w_df)"
      ]
    },
    {
      "cell_type": "code",
      "execution_count": null,
      "id": "50bd7f0e-3ed8-47df-8abe-fea1400009d6",
      "metadata": {
        "id": "50bd7f0e-3ed8-47df-8abe-fea1400009d6"
      },
      "outputs": [],
      "source": [
        "teams = pd.concat(team_dfs)"
      ]
    },
    {
      "cell_type": "code",
      "execution_count": null,
      "id": "046babf8-4647-4ebd-980a-c4f6508c41f4",
      "metadata": {
        "id": "046babf8-4647-4ebd-980a-c4f6508c41f4",
        "colab": {
          "base_uri": "https://localhost:8080/",
          "height": 17
        },
        "outputId": "68fb4621-942e-43c3-8e53-24d4a5c2abc8"
      },
      "outputs": [
        {
          "output_type": "display_data",
          "data": {
            "text/plain": [
              "<IPython.core.display.Javascript object>"
            ],
            "application/javascript": [
              "\n",
              "    async function download(id, filename, size) {\n",
              "      if (!google.colab.kernel.accessAllowed) {\n",
              "        return;\n",
              "      }\n",
              "      const div = document.createElement('div');\n",
              "      const label = document.createElement('label');\n",
              "      label.textContent = `Downloading \"${filename}\": `;\n",
              "      div.appendChild(label);\n",
              "      const progress = document.createElement('progress');\n",
              "      progress.max = size;\n",
              "      div.appendChild(progress);\n",
              "      document.body.appendChild(div);\n",
              "\n",
              "      const buffers = [];\n",
              "      let downloaded = 0;\n",
              "\n",
              "      const channel = await google.colab.kernel.comms.open(id);\n",
              "      // Send a message to notify the kernel that we're ready.\n",
              "      channel.send({})\n",
              "\n",
              "      for await (const message of channel.messages) {\n",
              "        // Send a message to notify the kernel that we're ready.\n",
              "        channel.send({})\n",
              "        if (message.buffers) {\n",
              "          for (const buffer of message.buffers) {\n",
              "            buffers.push(buffer);\n",
              "            downloaded += buffer.byteLength;\n",
              "            progress.value = downloaded;\n",
              "          }\n",
              "        }\n",
              "      }\n",
              "      const blob = new Blob(buffers, {type: 'application/binary'});\n",
              "      const a = document.createElement('a');\n",
              "      a.href = window.URL.createObjectURL(blob);\n",
              "      a.download = filename;\n",
              "      div.appendChild(a);\n",
              "      a.click();\n",
              "      div.remove();\n",
              "    }\n",
              "  "
            ]
          },
          "metadata": {}
        },
        {
          "output_type": "display_data",
          "data": {
            "text/plain": [
              "<IPython.core.display.Javascript object>"
            ],
            "application/javascript": [
              "download(\"download_ba9e966a-eac1-46ca-a5e8-ea22e69714f3\", \"teams.csv\", 70011)"
            ]
          },
          "metadata": {}
        }
      ],
      "source": [
        "teams.to_csv(\"teams.csv\")\n",
        "from google.colab import files\n",
        "files.download('teams.csv')"
      ]
    },
    {
      "cell_type": "code",
      "execution_count": null,
      "id": "8c9c0ed9-a774-451b-b5ad-103920e5fef1",
      "metadata": {
        "id": "8c9c0ed9-a774-451b-b5ad-103920e5fef1"
      },
      "outputs": [],
      "source": [
        "csvs collected mvp votings for past 30 years, team rankings and players statistics\n",
        "html files saved in respective files"
      ]
    }
  ],
  "metadata": {
    "kernelspec": {
      "display_name": "Python 3 (ipykernel)",
      "language": "python",
      "name": "python3"
    },
    "language_info": {
      "codemirror_mode": {
        "name": "ipython",
        "version": 3
      },
      "file_extension": ".py",
      "mimetype": "text/x-python",
      "name": "python",
      "nbconvert_exporter": "python",
      "pygments_lexer": "ipython3",
      "version": "3.11.4"
    },
    "colab": {
      "provenance": [],
      "include_colab_link": true
    }
  },
  "nbformat": 4,
  "nbformat_minor": 5
}